{
 "cells": [
  {
   "cell_type": "raw",
   "id": "143ad18e",
   "metadata": {},
   "source": [
    "---\n",
    "layout: post\n",
    "slug: roc-vs-pr-auc\n",
    "title: \"ROC AUC vs. PR AUC for Class Imbalance\"\n",
    "description: \"Uniting the intuition and the math behind PCA!\"\n",
    "---"
   ]
  },
  {
   "cell_type": "code",
   "execution_count": 19,
   "id": "76fa22e7",
   "metadata": {},
   "outputs": [],
   "source": [
    "# HIDE_CELL\n",
    "from IPython.display import Latex\n",
    "import numpy as np\n",
    "import matplotlib.pyplot as plt\n",
    "from sklearn.metrics import average_precision_score, auc\n",
    "\n",
    "def Tex(v):\n",
    "    return Latex(f\"{v}\")\n",
    "def MathTex(v):\n",
    "    return Latex(f\"${v}$\") \n",
    "def DMathTex(v):\n",
    "    return Latex(f\"$$\\n{v}\\n$$\")\n",
    "\n",
    "# These are slow but I'm ok with it for this post.\n",
    "def roc_curve(scores, labels, thresholds):\n",
    "    assert scores.shape == labels.shape\n",
    "    recalls = []\n",
    "    fprs = []\n",
    "    for threshold in thresholds:\n",
    "        idxs = np.arange(scores.shape[0])[scores >= threshold]\n",
    "        recall = labels[idxs].sum() / labels.sum()\n",
    "        fpr = (1 - labels[idxs]).sum() / (1 - labels).sum()\n",
    "        recalls.append(recall)\n",
    "        fprs.append(fpr)\n",
    "    return recalls, fprs, auc(fprs, recalls)\n",
    "        \n",
    "\n",
    "def pr_curve(scores, labels, thresholds):\n",
    "    assert scores.shape == labels.shape\n",
    "    recalls = []\n",
    "    precisions = []\n",
    "    for threshold in thresholds:\n",
    "        idxs = np.arange(scores.shape[0])[scores >= threshold]\n",
    "        recall = labels[idxs].sum() / labels.sum()\n",
    "        if idxs.shape[0] > 0:\n",
    "            precision = labels[idxs].sum() / idxs.shape[0]\n",
    "        else:\n",
    "            precision = 0\n",
    "        recalls.append(recall)\n",
    "        precisions.append(precision)\n",
    "    return precisions, recalls, auc(recalls, precisions)\n",
    "\n",
    "def draw_curve(xs, ys, title=None, xlabel=None, ylabel=None, style='line', show=True):\n",
    "    if style == 'line':\n",
    "        plt.plot(xs, ys)\n",
    "    elif style == 'scatter':\n",
    "        plt.scatter(xs, ys)\n",
    "    else:\n",
    "        raise ValueError(f\"Invalid style '{style}'\")\n",
    "    plt.xlim(-0.05, 1.05)\n",
    "    plt.ylim(-0.05, 1.05)\n",
    "    if xlabel:\n",
    "        plt.xlabel(xlabel)\n",
    "    if ylabel:\n",
    "        plt.ylabel(ylabel)\n",
    "    if title:\n",
    "        plt.title(title)\n",
    "    if show:\n",
    "        plt.show()"
   ]
  },
  {
   "cell_type": "markdown",
   "id": "87d80d12",
   "metadata": {},
   "source": [
    "I was just thinking about ROC AUC and PR AUC. Both are binary classification metrics, but ROC AUC can suffer in the presence of severe class imbalance. Here’s a way to see how PR AUC might do better.\n",
    "\n",
    "By the end of this post we'll see why ROC AUC can give you great results even for a bad model in the presence of class imbalance, and how PR AUC's focus on the positive class helps avoid this pitfall.\n",
    "\n",
    "## ROC AUC Basics\n",
    "\n",
    "We'll start by examining ROC AUC. Feel free to skip this section if you are already familiar. The ROC curve depends on 2 things:\n",
    "* **True positive rate (aka recall) (Y axis):** Among all the positives, what fraction did the model say were positive?\n",
    "\n",
    "$$ \\frac{\\text{num positives classified positive}}{\\text{total num positive}} $$\n",
    "\n",
    "* **False positive rate (X axis):** Among all the negatives, what fraction did the model say were positive?\n",
    "\n",
    "$$\n",
    "\\frac{\\text{num negatives classified positive}}{\\text{total num negative}}\n",
    "$$\n",
    "\n",
    "Here's an example of a typical ROC curve:"
   ]
  },
  {
   "cell_type": "code",
   "execution_count": 20,
   "id": "fe3e8518",
   "metadata": {},
   "outputs": [
    {
     "data": {
      "image/png": "[encoded data removed]",
      "text/plain": [
       "<Figure size 432x288 with 1 Axes>"
      ]
     },
     "metadata": {
      "needs_background": "light"
     },
     "output_type": "display_data"
    }
   ],
   "source": [
    "# HIDE_INPUT\n",
    "np.random.seed(5)\n",
    "scores = np.linspace(0, 1.0, 100)\n",
    "labels = np.random.random(scores.shape) <= scores\n",
    "ys, xs, area = roc_curve(scores, labels, np.linspace(0.0, 1.0, 50))\n",
    "draw_curve(xs, ys, title=\"ROC Curve\", xlabel=\"False Positive Rate\", ylabel=\"Recall\", style='line')\n",
    "\n",
    "scores_orig, labels_orig = scores, labels"
   ]
  },
  {
   "cell_type": "markdown",
   "id": "e6bbc258",
   "metadata": {},
   "source": [
    "Each point on the line corresponds to a particular model score threshold, whereby all examples above the threshold are classified as positive and all the examples below are classified as negative. We then compute the **recall** and **false positive rate** given that threshold to get a point. The above chart was created from 50 different thresholds between 0 and 1, as you can see here:"
   ]
  },
  {
   "cell_type": "code",
   "execution_count": 21,
   "id": "97d6bbcc",
   "metadata": {},
   "outputs": [
    {
     "data": {
      "image/png": "[encoded data removed]",
      "text/plain": [
       "<Figure size 432x288 with 1 Axes>"
      ]
     },
     "metadata": {
      "needs_background": "light"
     },
     "output_type": "display_data"
    }
   ],
   "source": [
    "# HIDE_INPUT\n",
    "draw_curve(xs, ys, title=\"ROC Curve\", xlabel=\"False Positive Rate\", ylabel=\"Recall\", style='scatter')"
   ]
  },
  {
   "cell_type": "markdown",
   "id": "791c5318",
   "metadata": {
    "variables": {
     "round(area, 2)": "0.82"
    }
   },
   "source": [
    "The area underneath this curve is called the ROC AUC, and it is a common way of measuring model performance. A value of 1 is perfect and 0 is awful. In the above diagram, the area is **{{round(area, 2)}}**."
   ]
  },
  {
   "cell_type": "markdown",
   "id": "2276d2c9",
   "metadata": {},
   "source": [
    "### Understanding the curve\n",
    "It turns out that the bottom leftmost point corresponds to a threshold of 1. At this threshold, recall is 0 because no positive examples have scores above the threshold, and the false positive rate is also 0 since no negatives were classified as positive. \n",
    "\n",
    "As we decrease the threshold and allow more examples to be classified as positive, depending on whether they have positive or negative labels, recall or the false positive rate will increase. If we decrease our threshold and more positive examples are correctly classified as positive, recall will go up. Conversely, if we decrease our threshold and more negative examples are misclassified as positive, the false positive rate will go up. Overall this moves us up and to the right along the curve (recall or false positive rate is always increasing as we lower the threshold), resulting in the shape we see above.\n",
    "\n",
    "### Concrete Example: Perfect and Worst Case Models\n",
    "Suppose you have a model that ranks 100 positives above 1000 negatives with the following scores:\n",
    "* 100 positive examples with scores over 0.80\n",
    "* 1000 negative examples with scores below 0.80\n",
    "\n",
    "This is a perfect model as far as ordering is concerned, so let’s see if the ROC AUC is 1.\n",
    "\n",
    "To see this, we’ll start with a super high threshold of **1**, and slowly decrease it. As we decrease it, more and more instances will be labeled as positive by the model, and we can observe what happens to the ROC AUC curve.\n",
    "\n",
    "As we decrease the threshold, we start including more and more of those 100 positives. The recall slowly climbs from 0 to 1. Throughout this process, we aren’t classifying any negatives as positive. So the false positive rate stays at 0, and all these points on the curve have x coordinate 0.\n",
    "\n",
    "Once our threshold hits 0.80, we’ve included all the positives, and our recall reaches 1. As we lower the threshold further, we start to include some negatives. The false positive rate starts to increase. But for all these different false positive rates, the recall is still 1. So as we move along the x axis, the y coordinate is always 1. In the end, we end up with a horizontal line from (0,1) to (1,1). The area under this is 1, so the ROC AUC is 1. We can see this below:"
   ]
  },
  {
   "cell_type": "raw",
   "id": "c44cb84f",
   "metadata": {},
   "source": [
    "# HIDE_CELL\n",
    "When recall goes up but the false positive rate stays the same, it means we're capturing more positive examples without accidentally misclassifying any negatives. If the false positive rate increases but recall stays the same, it means we're misclassifying more negatives without capturing any additional positives. If our model is good, as we decrease the threshold, recall will increase and the false positive rate won't go up too much.\n",
    "\n",
    "A perfect model would rank all positive examples above all negative examples. This means that as we decrease the threshold, recall would keep increasing while the false positive rate remains at 0. Once the threshold decreases enough that we start including negatives, recall will already be at 1 since we will have correctly classified all of the positives already. The false positive rate will increase from here as we start to misclassify negatives, leading to the shape we see below:"
   ]
  },
  {
   "cell_type": "code",
   "execution_count": 22,
   "id": "370393eb",
   "metadata": {},
   "outputs": [
    {
     "data": {
      "image/png": "[encoded data removed]",
      "text/plain": [
       "<Figure size 432x288 with 1 Axes>"
      ]
     },
     "metadata": {
      "needs_background": "light"
     },
     "output_type": "display_data"
    }
   ],
   "source": [
    "# HIDE_INPUT\n",
    "perf_ys, perf_xs, _ = roc_curve(scores, scores > 0.80, np.linspace(0.0, 1.0, 100))\n",
    "draw_curve(\n",
    "    perf_xs,\n",
    "    perf_ys,\n",
    "    title=\"Perfect ROC Curve\",\n",
    "    xlabel=\"False Positive Rate\", \n",
    "    ylabel=\"Recall\",\n",
    "    style='line')"
   ]
  },
  {
   "cell_type": "markdown",
   "id": "bdf927c4",
   "metadata": {},
   "source": [
    "Similarly, consider a terrible model that ranks the 1000 negative examples above the 100 positive ones:\n",
    "* 1000 negative examples with scores over 0.80\n",
    "* 100 positive examples with scores below 0.80\n",
    "\n",
    "Its ROC AUC curve would look like this:"
   ]
  },
  {
   "cell_type": "code",
   "execution_count": 23,
   "id": "822d42dc",
   "metadata": {},
   "outputs": [
    {
     "data": {
      "image/png": "[encoded data removed]",
      "text/plain": [
       "<Figure size 432x288 with 1 Axes>"
      ]
     },
     "metadata": {
      "needs_background": "light"
     },
     "output_type": "display_data"
    }
   ],
   "source": [
    "# HIDE_INPUT\n",
    "bad_ys, bad_xs, _ = roc_curve(scores, scores < 0.50, np.linspace(0.0, 1.0, 100))\n",
    "draw_curve(\n",
    "    bad_xs,\n",
    "    bad_ys,\n",
    "    title=\"Worst Case ROC Curve\",\n",
    "    xlabel=\"False Positive Rate\", \n",
    "    ylabel=\"Recall\",\n",
    "    style='line')"
   ]
  },
  {
   "cell_type": "markdown",
   "id": "8fd76f88",
   "metadata": {},
   "source": [
    "We again start with a high threshold of **1** and slowly decrease it. As we decrease the threshold, we start misclassifying those 1000 negatives as positive, which increases the false positive rate. During this time we aren't correctly classifying any of the 100 positives yet, so all these points have y coordinate (recall) 0. By the time our threshold reaches 0.80, we have classified all 1000 negatives as positive. This means our false positive rate is 1. Dropping the threshold further starts to include more positives and recall goes up, but we don't get any area from it since it's a vertcal line from (1, 0) to (1, 1).\n",
    "\n",
    "Thus the ROC AUC is 0."
   ]
  },
  {
   "cell_type": "markdown",
   "id": "5fd75c39",
   "metadata": {},
   "source": [
    "## Introducing Class Imbalance\n",
    "Now that we understand ROC AUC, what happens to this metric when class imbalance is introduced? What if there are a lot more negatives than positives in our data?\n",
    "\n",
    "Suppose our model scores examples as follows:\n",
    "* 100 negatives with scores above 0.80\n",
    "* 10 positives with scores between 0.50 and 0.80\n",
    "* 300 more negatives with scores below 0.50\n",
    "\n",
    "This model could be better. It's ranking 100 negatives highest after all.\n",
    "\n",
    "If we do the same threshold lowering experiment, we’ll first include these 100 negatives as our threshold lowers to 0.80. This whole time we’ll be moving along the X axis as our false positive rate increases, but the recall will be 0. By the time the threshold reaches 0.80, the false positive rate is $\\frac{100}{400} = 0.25$. On the chart below, this is the lower leftmost point.\n",
    "\n",
    "Let's keep lowering the threshold from 0.80 to 0.50. As we do this we include the 10 positives. The false positive rate stays at 0.25 but recall increases. Once we hit a threshold of 0.50 we have included all 10 positives, and recall reaches 1. As we further lower the threshold, the false positive rate starts to increase again since we’re including those last 300 negatives, but recall is 1 the whole time.\n",
    "\n",
    "The ROC AUC here is just the area under this rectangle-shaped curve, so $(1 - 0.25) \\cdot 1 = 0.75$."
   ]
  },
  {
   "cell_type": "code",
   "execution_count": 24,
   "id": "d104baf7",
   "metadata": {},
   "outputs": [
    {
     "data": {
      "image/png": "[encoded data removed]",
      "text/plain": [
       "<Figure size 432x288 with 1 Axes>"
      ]
     },
     "metadata": {
      "needs_background": "light"
     },
     "output_type": "display_data"
    }
   ],
   "source": [
    "# HIDE_INPUT\n",
    "scores = np.concatenate([np.ones(100) * 0.80, np.ones(10) * 0.50, np.ones(300) * 0.10])\n",
    "labels = np.concatenate([np.zeros(100), np.ones(10), np.zeros(300)])\n",
    "ys, xs, area = roc_curve(scores, labels, np.linspace(0.0, 1.0, 100))\n",
    "draw_curve(\n",
    "    xs,\n",
    "    ys,\n",
    "    title=\"ROC Curve\",\n",
    "    xlabel=\"False Positive Rate\", \n",
    "    ylabel=\"Recall\",\n",
    "    style='line',\n",
    "    show=False)\n",
    "ys, xs, _ = roc_curve(scores, labels, [0.80, 0.50, 0.0])\n",
    "draw_curve(\n",
    "    xs,\n",
    "    ys,\n",
    "    title=\"ROC Curve\",\n",
    "    xlabel=\"False Positive Rate\", \n",
    "    ylabel=\"Recall\",\n",
    "    style='scatter',\n",
    "    show=True)"
   ]
  },
  {
   "cell_type": "markdown",
   "id": "2d7ca140",
   "metadata": {},
   "source": [
    "Now let's make it much more imbalanced! Suppose our model scores examples as follows:\n",
    "* 100 negatives with scores above 0.80\n",
    "* 10 positives with scores between 0.50 and 0.80\n",
    "* 10,900 negatives with scores below 0.50\n",
    "\n",
    "We'll do the same threshold decreasing experiment, starting from 1. Once our threshold hits 0.80, recall is still 0 and the false positive rate is $\\frac{100}{11,000} = 0.009$. Then we start including those 10 positives, and the recall shoots up to 1. Finally, we begin including the 10,900 negatives, which brings our false positive rate from 0.009 to 1.\n",
    "\n",
    "The ROC AUC is again the area under this rectangle, so $(1 - 0.009) \\cdot 1 = 0.991$.\n",
    "\n"
   ]
  },
  {
   "cell_type": "code",
   "execution_count": 25,
   "id": "42eea573",
   "metadata": {},
   "outputs": [
    {
     "data": {
      "image/png": "[encoded data removed]",
      "text/plain": [
       "<Figure size 432x288 with 1 Axes>"
      ]
     },
     "metadata": {
      "needs_background": "light"
     },
     "output_type": "display_data"
    }
   ],
   "source": [
    "# HIDE_INPUT\n",
    "scores = np.concatenate([np.ones(100) * 0.80, np.ones(10) * 0.50, np.ones(10900) * 0.10])\n",
    "labels = np.concatenate([np.zeros(100), np.ones(10), np.zeros(10900)])\n",
    "ys, xs, area = roc_curve(scores, labels, np.linspace(0.0, 1.0, 100))\n",
    "draw_curve(\n",
    "    xs,\n",
    "    ys,\n",
    "    title=\"ROC Curve\",\n",
    "    xlabel=\"False Positive Rate\", \n",
    "    ylabel=\"Recall\",\n",
    "    style='line',\n",
    "    show=False)\n",
    "ys, xs, _ = roc_curve(scores, labels, [0.80, 0.50, 0.0])\n",
    "draw_curve(\n",
    "    xs,\n",
    "    ys,\n",
    "    title=\"ROC Curve\",\n",
    "    xlabel=\"False Positive Rate\", \n",
    "    ylabel=\"Recall\",\n",
    "    style='scatter',\n",
    "    show=True)"
   ]
  },
  {
   "cell_type": "markdown",
   "id": "36b23d3a",
   "metadata": {},
   "source": [
    "Wow looks great! But wait, isn't this model bad? Imagine if we used it production for ranking and it behaved like this. The top 100 results would all be terrible! So ROC AUC has deceived us here.\n",
    "\n",
    "How can we address this situation? Enter PR AUC.\n",
    "\n",
    "## PR AUC to the rescue\n",
    "PR AUC is the area under the precision recall curve. Its axes are:\n",
    "* Precision (y-axis): Of the instances that were classified as positive, what fraction are actually positive?\n",
    "\n",
    "$$ \\frac{\\text{num classified positive and actually positive}}{\\text{num classified positive}}$$\n",
    "\n",
    "* Recall (x-axis): Of all the positive instances, what fraction did the model classify as positive?\n",
    "\n",
    "$$ \\frac{\\text{num positives classified positive}}{\\text{total num positive}}$$\n",
    "\n",
    "A typical PR curve might look like this:"
   ]
  },
  {
   "cell_type": "code",
   "execution_count": 26,
   "id": "2b582be2",
   "metadata": {},
   "outputs": [
    {
     "data": {
      "image/png": "[encoded data removed]",
      "text/plain": [
       "<Figure size 432x288 with 1 Axes>"
      ]
     },
     "metadata": {
      "needs_background": "light"
     },
     "output_type": "display_data"
    }
   ],
   "source": [
    "# HIDE_INPUT\n",
    "ys, xs, area = pr_curve(scores_orig, labels_orig, np.linspace(0.0, 1.0, 500))\n",
    "draw_curve(xs, ys, title=\"PR Curve\", xlabel=\"Recall\", ylabel=\"Precision\", style='line')"
   ]
  },
  {
   "cell_type": "markdown",
   "id": "451a972c",
   "metadata": {
    "variables": {
     "round(area, 2)": "0.79"
    }
   },
   "source": [
    "The PR AUC is **{{round(area, 2)}}**.\n",
    "\n",
    "Let's revisit our class imbalance situation. Suppose our model scores examples as follows:\n",
    "* 100 negatives with scores above 0.80\n",
    "* 10 positives with scores between 0.50 and 0.80\n",
    "* 300 more negatives with scores below 0.50\n",
    "\n",
    "We will again start with a high threshold and decrease it. As our threshold decreases to 0.80 we classify those 100 negatives as positive. This whole time recall remains at 0 since we haven't included any actual positives yet. Precision *also* remains at 0, because none of the examples we've classified as positive so far are actually positive.\n",
    "\n",
    "Once the threshold goes below 0.80, we start to include those 10 positives. Once we start including the positives, recall will start to increase, and so will precision. After the first positive, recall will be $\\frac{1}{10}$ and precision will be $\\frac{1}{101}$. Once we’ve included all 10 positives, our recall will have gone all the way to 1, and our precision will have increased to $\\frac{10}{110} = 0.0909$.\n",
    "\n",
    "After dropping our threshold below 0.50, we will begin including the 300 negatives. Recall will remain at 1, but precision will slowly drop. After the first of those 300 negatives precision will be $\\frac{10}{111}$, then $\\frac{10}{112}$, etc. all the way to $\\frac{10}{410}$ when our threshold reaches 0.\n",
    "\n",
    "Here's the chart:"
   ]
  },
  {
   "cell_type": "code",
   "execution_count": 27,
   "id": "9b4e584c",
   "metadata": {},
   "outputs": [
    {
     "data": {
      "image/png": "[encoded data removed]",
      "text/plain": [
       "<Figure size 432x288 with 1 Axes>"
      ]
     },
     "metadata": {
      "needs_background": "light"
     },
     "output_type": "display_data"
    }
   ],
   "source": [
    "# HIDE_INPUT\n",
    "scores = np.concatenate([np.ones(100) * 0.80, np.ones(10) * 0.50, np.ones(300) * 0.10])\n",
    "labels = np.concatenate([np.zeros(100), np.ones(10), np.zeros(300)])\n",
    "ys, xs, area = pr_curve(scores, labels, np.linspace(0.0, 1.0, 100))\n",
    "draw_curve(\n",
    "    xs,\n",
    "    ys,\n",
    "    title=\"Precision Recall Curve\",\n",
    "    xlabel=\"Recall\", \n",
    "    ylabel=\"Precision\",\n",
    "    style='line',\n",
    "    show=False)\n",
    "ys, xs, _ = pr_curve(scores, labels, [0.80, 0.50, 0.0])\n",
    "draw_curve(\n",
    "    xs,\n",
    "    ys,\n",
    "    title=\"Precision Recall Curve\",\n",
    "    xlabel=\"Recall\", \n",
    "    ylabel=\"Precision\",\n",
    "    style='scatter',\n",
    "    show=True)"
   ]
  },
  {
   "cell_type": "markdown",
   "id": "ab27bc02",
   "metadata": {
    "variables": {
     "round(area, 2)": "0.05"
    }
   },
   "source": [
    "The PR AUC here is a lowly **{{round(area, 2)}}**. Note that PR AUC has really penalized this model for misclassifying those 100 negatives as positive!\n",
    "\n",
    "Now what if instead of 300 negatives ranked after those 10 positives, we had 10,900 negatives like before? How would PR AUC change? Would it jump up like ROC AUC did?\n",
    "\n",
    "If we look closely, these 300 negatives didn't really matter. Since recall was already at 1, we were just moving down the y axis on the chart as we included those 300 negatives and decreased precision.\n",
    "\n",
    "**So it wouldn't matter if we had 300 negatives after the 10 positives, or 1 negative, or 10,000. The chart would look exactly the same, and the PR AUC would be exactly the same.**\n",
    "\n",
    "## Bottom Line\n",
    "\n",
    "#### False Positive Rate vs. Precision\n",
    "In ROC AUC, the problem metric was false positive rate. Adding a bunch of negatives (increasing the denominator by a lot) makes changes in the numerator a lot less impactful. This means that there's little difference between a model that misclassifies 10 of 10,000 negatives as positive and one that misclassifies 50 of 10,000. Both will have low false positive rates, which keeps the x-axis value on the ROC curve low.\n",
    "\n",
    "The false positive rate will only increase in earnest once the threshold is low enough for the model to misclassify the bulk of those 10,000 examples, and by that time the model has probably already correctly classified most of the positives. Because of this, the recall will reach 1 while the false positive rate is still pretty low, which leads to a large area under the curve.\n",
    "\n",
    "Precision, by contrast, doesn't care how many negatives there are. All it cares about is whether the examples that are classified as positive are actually positive. In fact, for the entire PR AUC chart, negatives only matter if they are misclassified as positive. Neither recall nor precision cares how many negatives the model correctly classifies as negative.\n",
    "\n",
    "#### Conclusion\n",
    "So as we can see, ROC AUC and PR AUC measure different things:\n",
    "* PR AUC focuses almost entirely on the positive class, only considering negatives insofar as they interfere with positive classifications. The model doesn't get any brownie points for correctly classifying a huge set of negatives correctly as long as the positives are taken care of. In our imbalanced example, the model did a poor job by misclassifying those 100 negatives, so PR AUC gave it a heavy penalty.\n",
    "* ROC AUC considers both classes, and will give a model brownie points for correctly classifying lots of negatives and positives. In our imbalanced example, adding lots of negative examples with low scores caused ROC AUC to give the model lots of brownie points for these correct classifications, overlooking those 100 misclassified negatives.\n",
    "\n",
    "Depending on the situation, it's probably worth adding both to your metric suite!\n",
    "\n"
   ]
  },
  {
   "cell_type": "code",
   "execution_count": null,
   "id": "5f545bcd",
   "metadata": {},
   "outputs": [],
   "source": []
  }
 ],
 "metadata": {
  "kernelspec": {
   "display_name": "Python 3 (ipykernel)",
   "language": "python",
   "name": "python3"
  },
  "language_info": {
   "codemirror_mode": {
    "name": "ipython",
    "version": 3
   },
   "file_extension": ".py",
   "mimetype": "text/x-python",
   "name": "python",
   "nbconvert_exporter": "python",
   "pygments_lexer": "ipython3",
   "version": "3.10.6"
  }
 },
 "nbformat": 4,
 "nbformat_minor": 5
}
