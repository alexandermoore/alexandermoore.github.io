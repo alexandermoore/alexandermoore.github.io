{
 "cells": [
  {
   "cell_type": "raw",
   "id": "143ad18e",
   "metadata": {},
   "source": [
    "---\n",
    "layout: post\n",
    "permalink: pca-intuition-and-math\n",
    "title: \"PCA: Intuition And Math\"\n",
    "---"
   ]
  },
  {
   "cell_type": "markdown",
   "id": "87d80d12",
   "metadata": {},
   "source": [
    "## PCA\n",
    "I've known what PCA is for a while. Just find the eigenvectors of the $dxd$ covariance matrix of your data and voila there are your principal component vectors. Project your original data onto the $k < d$ vectors with the largest eigenvalues, record the magnitudes of each projection, compile those magnitudes into a $k$ dimensional vector and you have your reduced dimensionality representation.\n",
    "\n",
    "**But *why*? Why do we do this, exactly, and why does it work?** I did some searching and am documenting my findings here."
   ]
  },
  {
   "cell_type": "markdown",
   "id": "b804ecf9",
   "metadata": {},
   "source": [
    "## The Goal\n",
    "The goal of PCA is to represent a dataset with fewer dimensions than the original. So if our dataset had 100 dimensions, maybe we'd want to represent it with only two dimensions so it's easier to plot. However, when we project from 100 dimensions down to two, we lose a lot of information. PCA is about finding dimensions which, when our data is projected onto them, maintains as much of the \"flavor\" from the original 100 dimensional dataset as possible. So if points were close together in the 100 dimensional space, we'd want them to also be close together in our two dimensional space.\n",
    "\n",
    "Let's consider a simple case where our data is originally 2 dimensional, and we want to project it down to 1 dimension. This means instead of representing each data point using 2 dimensions, we now want to represent it as a single number.\n",
    "\n",
    "Take a look at the plot below:"
   ]
  },
  {
   "cell_type": "code",
   "execution_count": 3,
   "id": "3bc3cabe",
   "metadata": {},
   "outputs": [
    {
     "data": {
      "image/png": "[encoded data removed]",
      "text/plain": [
       "<Figure size 432x288 with 1 Axes>"
      ]
     },
     "metadata": {
      "needs_background": "light"
     },
     "output_type": "display_data"
    }
   ],
   "source": [
    "# HIDE_INPUT\n",
    "# hey\n",
    "import matplotlib.pyplot as plt\n",
    "import numpy as np\n",
    "np.random.seed(5)\n",
    "x = -5 + np.random.random((10,1)) * 10\n",
    "y = x - 3 + 6*np.random.random(x.shape)\n",
    "X = np.concatenate([x, y], axis=-1)\n",
    "cov = np.cov(X.T)\n",
    "# eigvals[i] -- eigvecs[:,i]\n",
    "eigvals, eigvecs = np.linalg.eig(cov)\n",
    "sorted_by_eig = np.argsort(-eigvals)\n",
    "eigvecs = eigvecs[:,sorted_by_eig]\n",
    "eigvals = eigvals[sorted_by_eig]\n",
    "\n",
    "colors = ['r', 'b']\n",
    "for r in range(len(eigvals)-1):\n",
    "    plt.axline((0,0), eigvecs[:,r], color=colors[r])\n",
    "\n",
    "plt.scatter(x,y)\n",
    "plt.axis('square')\n",
    "plt.show()"
   ]
  },
  {
   "cell_type": "markdown",
   "id": "6b488c4d",
   "metadata": {},
   "source": []
  },
  {
   "cell_type": "code",
   "execution_count": 47,
   "id": "ae3cb8eb",
   "metadata": {},
   "outputs": [
    {
     "data": {
      "text/plain": [
       "0.0"
      ]
     },
     "execution_count": 47,
     "metadata": {},
     "output_type": "execute_result"
    }
   ],
   "source": [
    "np.dot(eigvecs[:,0], eigvecs[:,1])"
   ]
  },
  {
   "cell_type": "code",
   "execution_count": 102,
   "id": "bbcf4d86",
   "metadata": {},
   "outputs": [
    {
     "data": {
      "text/plain": [
       "array([[ 0.65581979, -0.75491748],\n",
       "       [-0.75491748, -0.65581979]])"
      ]
     },
     "execution_count": 102,
     "metadata": {},
     "output_type": "execute_result"
    }
   ],
   "source": [
    "eigvecs"
   ]
  },
  {
   "cell_type": "code",
   "execution_count": 29,
   "id": "d8e02a16",
   "metadata": {},
   "outputs": [
    {
     "data": {
      "text/plain": [
       "array([[-0.96786672, -0.25146375],\n",
       "       [ 0.25146375, -0.96786672]])"
      ]
     },
     "execution_count": 29,
     "metadata": {},
     "output_type": "execute_result"
    }
   ],
   "source": [
    "plt.plot"
   ]
  },
  {
   "cell_type": "code",
   "execution_count": null,
   "id": "8562f05f",
   "metadata": {},
   "outputs": [],
   "source": []
  }
 ],
 "metadata": {
  "kernelspec": {
   "display_name": "Python 3 (ipykernel)",
   "language": "python",
   "name": "python3"
  },
  "language_info": {
   "codemirror_mode": {
    "name": "ipython",
    "version": 3
   },
   "file_extension": ".py",
   "mimetype": "text/x-python",
   "name": "python",
   "nbconvert_exporter": "python",
   "pygments_lexer": "ipython3",
   "version": "3.10.6"
  }
 },
 "nbformat": 4,
 "nbformat_minor": 5
}
