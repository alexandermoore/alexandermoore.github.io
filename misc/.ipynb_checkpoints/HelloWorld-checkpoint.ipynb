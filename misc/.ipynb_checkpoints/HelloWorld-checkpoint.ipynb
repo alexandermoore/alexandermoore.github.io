{
 "cells": [
  {
   "cell_type": "code",
   "execution_count": 1,
   "id": "da5e5022",
   "metadata": {},
   "outputs": [],
   "source": [
    "import numpy"
   ]
  },
  {
   "cell_type": "markdown",
   "id": "4f58d49f",
   "metadata": {},
   "source": [
    "# Some cell\n",
    "Hello world $f(x) = 5$ is a function."
   ]
  },
  {
   "cell_type": "code",
   "execution_count": 2,
   "id": "1c4af439",
   "metadata": {},
   "outputs": [
    {
     "name": "stdout",
     "output_type": "stream",
     "text": [
      "hey\n"
     ]
    }
   ],
   "source": [
    "print(\"hey\")"
   ]
  },
  {
   "cell_type": "code",
   "execution_count": null,
   "id": "65694579",
   "metadata": {},
   "outputs": [],
   "source": []
  }
 ],
 "metadata": {
  "kernelspec": {
   "display_name": "Python 3 (ipykernel)",
   "language": "python",
   "name": "python3"
  },
  "language_info": {
   "codemirror_mode": {
    "name": "ipython",
    "version": 3
   },
   "file_extension": ".py",
   "mimetype": "text/x-python",
   "name": "python",
   "nbconvert_exporter": "python",
   "pygments_lexer": "ipython3",
   "version": "3.10.4"
  }
 },
 "nbformat": 4,
 "nbformat_minor": 5
}
