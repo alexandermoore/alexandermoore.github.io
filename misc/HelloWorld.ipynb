{
 "cells": [
  {
   "cell_type": "code",
   "execution_count": 1,
   "id": "8f27cc11",
   "metadata": {},
   "outputs": [],
   "source": [
    "import numpy"
   ]
  },
  {
   "cell_type": "markdown",
   "id": "d4a8d11e",
   "metadata": {},
   "source": [
    "# Some cell"
   ]
  },
  {
   "cell_type": "markdown",
   "id": "281f5991",
   "metadata": {},
   "source": [
    "Hello world $f(x) = 5$ is a function."
   ]
  },
  {
   "cell_type": "code",
   "execution_count": 2,
   "id": "2e3379ef",
   "metadata": {},
   "outputs": [
    {
     "name": "stdout",
     "output_type": "stream",
     "text": [
      "hey\n"
     ]
    }
   ],
   "source": [
    "print(\"hey\")"
   ]
  },
  {
   "cell_type": "code",
   "execution_count": 4,
   "id": "5f059801",
   "metadata": {},
   "outputs": [],
   "source": [
    "from nbdev.export2html import nbdev_nb2md"
   ]
  },
  {
   "cell_type": "code",
   "execution_count": 8,
   "id": "5cde397e",
   "metadata": {},
   "outputs": [
    {
     "data": {
      "text/plain": [
       "'1.2.11'"
      ]
     },
     "execution_count": 8,
     "metadata": {},
     "output_type": "execute_result"
    }
   ],
   "source": [
    "#nbdev_nb2md(\"HelloWorld.ipynb\")\n",
    "import nbdev\n",
    "nbdev.__version__"
   ]
  },
  {
   "cell_type": "code",
   "execution_count": 9,
   "id": "aaca9deb",
   "metadata": {},
   "outputs": [
    {
     "name": "stdout",
     "output_type": "stream",
     "text": [
      "Help on function nbdev_nb2md in module nbdev.export2html:\n",
      "\n",
      "nbdev_nb2md(fname: str, dest: str = '.', img_path: None = '', jekyll: <function bool_arg at 0x7f8dc1de4700> = False)\n",
      "    Convert the notebook in `fname` to a markdown file\n",
      "\n"
     ]
    }
   ],
   "source": [
    "help(nbdev_nb2md)"
   ]
  },
  {
   "cell_type": "code",
   "execution_count": null,
   "id": "80ec5b76",
   "metadata": {},
   "outputs": [],
   "source": []
  }
 ],
 "metadata": {
  "kernelspec": {
   "display_name": "Python 3 (ipykernel)",
   "language": "python",
   "name": "python3"
  },
  "language_info": {
   "codemirror_mode": {
    "name": "ipython",
    "version": 3
   },
   "file_extension": ".py",
   "mimetype": "text/x-python",
   "name": "python",
   "nbconvert_exporter": "python",
   "pygments_lexer": "ipython3",
   "version": "3.10.4"
  }
 },
 "nbformat": 4,
 "nbformat_minor": 5
}
