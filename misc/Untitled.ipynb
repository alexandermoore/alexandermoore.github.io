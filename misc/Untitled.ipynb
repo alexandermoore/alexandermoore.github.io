{
 "cells": [
  {
   "cell_type": "code",
   "execution_count": 2,
   "id": "c823a95d",
   "metadata": {},
   "outputs": [
    {
     "name": "stdout",
     "output_type": "stream",
     "text": [
      "usage: nbdev_nb2md [-h] [--dest DEST] [--img_path IMG_PATH] [--jekyll JEKYLL]\r\n",
      "                   fname\r\n",
      "nbdev_nb2md: error: argument --img_path: invalid NoneType value: ''\r\n"
     ]
    }
   ],
   "source": [
    "!nbdev_nb2md HelloWorld.ipynb"
   ]
  },
  {
   "cell_type": "code",
   "execution_count": 2,
   "id": "2545cde9",
   "metadata": {},
   "outputs": [],
   "source": [
    "from nbdev.export2html import nbdev_nb2md"
   ]
  },
  {
   "cell_type": "code",
   "execution_count": 5,
   "id": "db4080e6",
   "metadata": {},
   "outputs": [],
   "source": [
    "from nbdev.export2html import _nbdev_detach"
   ]
  },
  {
   "cell_type": "code",
   "execution_count": 10,
   "id": "8bc00969",
   "metadata": {},
   "outputs": [],
   "source": [
    "def nbdev_nb2md3(\n",
    "    fname:str,  # A notebook file name to convert\n",
    "    dest:str='.',  # The destination folder\n",
    "    img_path=\"\",  # Folder to export images to\n",
    "    jekyll=False  # To use jekyll metadata for your markdown file or not\n",
    "):\n",
    "    \"Convert the notebook in `fname` to a markdown file\"\n",
    "    _nbdev_detach(fname, dest=img_path)\n",
    "    convert_md(fname, dest, jekyll=jekyll, img_path=img_path)"
   ]
  },
  {
   "cell_type": "code",
   "execution_count": 3,
   "id": "f7101ade",
   "metadata": {},
   "outputs": [],
   "source": [
    "nbdev_nb2md(fname=\"HelloWorld.ipynb\")"
   ]
  },
  {
   "cell_type": "code",
   "execution_count": null,
   "id": "dc78f94f",
   "metadata": {},
   "outputs": [],
   "source": []
  }
 ],
 "metadata": {
  "kernelspec": {
   "display_name": "Python 3 (ipykernel)",
   "language": "python",
   "name": "python3"
  },
  "language_info": {
   "codemirror_mode": {
    "name": "ipython",
    "version": 3
   },
   "file_extension": ".py",
   "mimetype": "text/x-python",
   "name": "python",
   "nbconvert_exporter": "python",
   "pygments_lexer": "ipython3",
   "version": "3.10.4"
  }
 },
 "nbformat": 4,
 "nbformat_minor": 5
}
